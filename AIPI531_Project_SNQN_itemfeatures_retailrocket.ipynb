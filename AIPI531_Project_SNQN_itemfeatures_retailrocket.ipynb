{
  "nbformat": 4,
  "nbformat_minor": 0,
  "metadata": {
    "colab": {
      "provenance": [],
      "include_colab_link": true
    },
    "kernelspec": {
      "name": "python3",
      "display_name": "Python 3"
    },
    "language_info": {
      "name": "python"
    },
    "gpuClass": "standard"
  },
  "cells": [
    {
      "cell_type": "markdown",
      "metadata": {
        "id": "view-in-github",
        "colab_type": "text"
      },
      "source": [
        "<a href=\"https://colab.research.google.com/github/hj151mids/aipi_531_group_c/blob/snqn_item/AIPI531_Project_SNQN_itemfeatures_retailrocket.ipynb\" target=\"_parent\"><img src=\"https://colab.research.google.com/assets/colab-badge.svg\" alt=\"Open In Colab\"/></a>"
      ]
    },
    {
      "cell_type": "markdown",
      "source": [
        "# Steps to run the Source code(python scripts) for the final project"
      ],
      "metadata": {
        "id": "txouUAVRcoJn"
      }
    },
    {
      "cell_type": "markdown",
      "source": [
        "To run the repositories, you need to upgrade the code to TensorFlow 2. Follow the steps given below to run the python scripts\n",
        "\n",
        "1) Mount you google drive with all the scripts and point to the folder containing the source code"
      ],
      "metadata": {
        "id": "AqJZBRxZcGCD"
      }
    },
    {
      "cell_type": "code",
      "source": [
        "# Mount Google Drive folder\n",
        "from google.colab import drive\n",
        "drive.mount('/content/drive')"
      ],
      "metadata": {
        "colab": {
          "base_uri": "https://localhost:8080/"
        },
        "id": "-IYlNxGemvPn",
        "outputId": "26600360-42c0-4da0-fe1f-8272222ea57a"
      },
      "execution_count": 1,
      "outputs": [
        {
          "output_type": "stream",
          "name": "stdout",
          "text": [
            "Mounted at /content/drive\n"
          ]
        }
      ]
    },
    {
      "cell_type": "code",
      "execution_count": 2,
      "metadata": {
        "colab": {
          "base_uri": "https://localhost:8080/"
        },
        "id": "SH_p3AaD6VII",
        "outputId": "8b1673ee-b57f-4f36-fb60-da5f66cbe08d"
      },
      "outputs": [
        {
          "output_type": "stream",
          "name": "stdout",
          "text": [
            "/content/drive/Othercomputers/My_MacBook_Pro/aipi_final_project/SA2C_code/Kaggle\n",
            "data\t\t      replay_buffer.py\tSNQN_v1.py\n",
            "data2\t\t      report_SA2C.txt\tsplit_data.py\n",
            "DQN_NS.py\t      SA2C.py\t\ttest.py\n",
            "NextItNetModules.py   SA2C_upgrade.py\tutility.py\n",
            "pop.py\t\t      SASRecModules.py\tyun_item_vector.ipynb\n",
            "preprocess_kaggle.py  SNQN.py\n",
            "__pycache__\t      SNQN_v0.py\n"
          ]
        }
      ],
      "source": [
        "\n",
        "PROJ_DIR = '/content/drive/Othercomputers/My_MacBook_Pro/aipi_final_project/SA2C_code/Kaggle'\n",
        "# change current directory after mounting\n",
        "%cd $PROJ_DIR\n",
        "! ls"
      ]
    },
    {
      "cell_type": "code",
      "source": [
        "! pip install pandas trfl"
      ],
      "metadata": {
        "colab": {
          "base_uri": "https://localhost:8080/"
        },
        "id": "D48QnNqM88n5",
        "outputId": "036169fe-7eb9-44b3-ae31-f3ce010c27a8"
      },
      "execution_count": 3,
      "outputs": [
        {
          "output_type": "stream",
          "name": "stdout",
          "text": [
            "Looking in indexes: https://pypi.org/simple, https://us-python.pkg.dev/colab-wheels/public/simple/\n",
            "Requirement already satisfied: pandas in /usr/local/lib/python3.10/dist-packages (1.5.3)\n",
            "Collecting trfl\n",
            "  Downloading trfl-1.2.0-py3-none-any.whl (104 kB)\n",
            "\u001b[2K     \u001b[90m━━━━━━━━━━━━━━━━━━━━━━━━━━━━━━━━━━━━━━━\u001b[0m \u001b[32m104.3/104.3 kB\u001b[0m \u001b[31m3.7 MB/s\u001b[0m eta \u001b[36m0:00:00\u001b[0m\n",
            "\u001b[?25hRequirement already satisfied: python-dateutil>=2.8.1 in /usr/local/lib/python3.10/dist-packages (from pandas) (2.8.2)\n",
            "Requirement already satisfied: numpy>=1.21.0 in /usr/local/lib/python3.10/dist-packages (from pandas) (1.22.4)\n",
            "Requirement already satisfied: pytz>=2020.1 in /usr/local/lib/python3.10/dist-packages (from pandas) (2022.7.1)\n",
            "Requirement already satisfied: dm-tree in /usr/local/lib/python3.10/dist-packages (from trfl) (0.1.8)\n",
            "Requirement already satisfied: wrapt in /usr/local/lib/python3.10/dist-packages (from trfl) (1.14.1)\n",
            "Requirement already satisfied: absl-py in /usr/local/lib/python3.10/dist-packages (from trfl) (1.4.0)\n",
            "Requirement already satisfied: six in /usr/local/lib/python3.10/dist-packages (from trfl) (1.16.0)\n",
            "Installing collected packages: trfl\n",
            "Successfully installed trfl-1.2.0\n"
          ]
        }
      ]
    },
    {
      "cell_type": "code",
      "source": [
        "!pwd"
      ],
      "metadata": {
        "colab": {
          "base_uri": "https://localhost:8080/"
        },
        "id": "_xk4danc2AzP",
        "outputId": "7e9983b9-e7d7-49af-9773-377f41d57270"
      },
      "execution_count": 4,
      "outputs": [
        {
          "output_type": "stream",
          "name": "stdout",
          "text": [
            "/content/drive/Othercomputers/My_MacBook_Pro/aipi_final_project/SA2C_code/Kaggle\n"
          ]
        }
      ]
    },
    {
      "cell_type": "markdown",
      "source": [
        "## 3) Then just provide appropriate arguments and select the model you want to train on and execute "
      ],
      "metadata": {
        "id": "dZyD9tIGgmPB"
      }
    },
    {
      "cell_type": "code",
      "source": [
        "! python SNQN_v1.py --model=GRU --epoch=1"
      ],
      "metadata": {
        "colab": {
          "base_uri": "https://localhost:8080/"
        },
        "id": "KiS6So4a8jW9",
        "outputId": "8fa5053a-ecf0-471d-fec4-56d8ccbfff87"
      },
      "execution_count": 5,
      "outputs": [
        {
          "output_type": "stream",
          "name": "stdout",
          "text": [
            "2023-04-29 12:16:38.163370: I tensorflow/core/platform/cpu_feature_guard.cc:182] This TensorFlow binary is optimized to use available CPU instructions in performance-critical operations.\n",
            "To enable the following instructions: AVX2 FMA, in other operations, rebuild TensorFlow with the appropriate compiler flags.\n",
            "2023-04-29 12:16:40.596055: W tensorflow/compiler/tf2tensorrt/utils/py_utils.cc:38] TF-TRT Warning: Could not find TensorRT\n",
            "/content/drive/Othercomputers/My_MacBook_Pro/aipi_final_project/SA2C_code/Kaggle/SNQN_v1.py:124: UserWarning: `tf.nn.rnn_cell.GRUCell` is deprecated and will be removed in a future version. This class is equivalent as `tf.keras.layers.GRUCell`, and will be replaced by that in Tensorflow 2.0.\n",
            "  tf.compat.v1.nn.rnn_cell.GRUCell(self.hidden_size),\n",
            "WARNING:tensorflow:From /content/drive/Othercomputers/My_MacBook_Pro/aipi_final_project/SA2C_code/Kaggle/SNQN_v1.py:123: dynamic_rnn (from tensorflow.python.ops.rnn) is deprecated and will be removed in a future version.\n",
            "Instructions for updating:\n",
            "Please use `keras.layers.RNN(cell)`, which is equivalent to this API\n",
            "WARNING:tensorflow:From /usr/local/lib/python3.10/dist-packages/keras/layers/rnn/legacy_cells.py:584: calling Constant.__init__ (from tensorflow.python.ops.init_ops) with dtype is deprecated and will be removed in a future version.\n",
            "Instructions for updating:\n",
            "Call initializer instance with the dtype argument instead of passing it to the constructor\n",
            "WARNING:tensorflow:From /usr/local/lib/python3.10/dist-packages/keras/layers/rnn/legacy_cells.py:598: calling Zeros.__init__ (from tensorflow.python.ops.init_ops) with dtype is deprecated and will be removed in a future version.\n",
            "Instructions for updating:\n",
            "Call initializer instance with the dtype argument instead of passing it to the constructor\n",
            "/content/drive/Othercomputers/My_MacBook_Pro/aipi_final_project/SA2C_code/Kaggle/SNQN_v1.py:295: UserWarning: `tf.layers.dense` is deprecated and will be removed in a future version. Please use `tf.keras.layers.Dense` instead.\n",
            "  self.output1 = tf.compat.v1.layers.dense(\n",
            "/content/drive/Othercomputers/My_MacBook_Pro/aipi_final_project/SA2C_code/Kaggle/SNQN_v1.py:299: UserWarning: `tf.layers.dense` is deprecated and will be removed in a future version. Please use `tf.keras.layers.Dense` instead.\n",
            "  self.output_phi = tf.compat.v1.layers.dense(\n",
            "/content/drive/Othercomputers/My_MacBook_Pro/aipi_final_project/SA2C_code/Kaggle/SNQN_v1.py:303: UserWarning: `tf.layers.dense` is deprecated and will be removed in a future version. Please use `tf.keras.layers.Dense` instead.\n",
            "  self.feature_embeddings = tf.compat.v1.layers.dense(\n",
            "2023-04-29 12:17:05.519462: I tensorflow/compiler/mlir/mlir_graph_optimization_pass.cc:353] MLIR V1 optimization pass is not enabled\n",
            "2023-04-29 12:19:14.937466: W tensorflow/tsl/framework/cpu_allocator_impl.cc:83] Allocation of 835771392 exceeds 10% of free system memory.\n",
            "2023-04-29 12:19:15.211628: W tensorflow/tsl/framework/cpu_allocator_impl.cc:83] Allocation of 835771392 exceeds 10% of free system memory.\n",
            "2023-04-29 12:23:43.286698: W tensorflow/tsl/framework/cpu_allocator_impl.cc:83] Allocation of 950289408 exceeds 10% of free system memory.\n",
            "2023-04-29 12:23:43.464825: W tensorflow/tsl/framework/cpu_allocator_impl.cc:83] Allocation of 950289408 exceeds 10% of free system memory.\n",
            "2023-04-29 12:33:23.709305: W tensorflow/tsl/framework/cpu_allocator_impl.cc:83] Allocation of 1854876672 exceeds 10% of free system memory.\n",
            "#############################################################\n",
            "total clicks: 241404, total purchase:11243\n",
            "~~~~~~~~~~~~~~~~~~~~~~~~~~~~~~~~~~~~~~~~~~~~~~~~~~~~~~~~~~~~~\n",
            "cumulative reward @ 5: 26.400000\n",
            "clicks hr ndcg @ 5 : 0.000547, 0.000251\n",
            "purchase hr and ndcg @5 : 0.000000, 0.000000\n",
            "~~~~~~~~~~~~~~~~~~~~~~~~~~~~~~~~~~~~~~~~~~~~~~~~~~~~~~~~~~~~~\n",
            "cumulative reward @ 10: 70.200000\n",
            "clicks hr ndcg @ 10 : 0.001454, 0.000540\n",
            "purchase hr and ndcg @10 : 0.000000, 0.000000\n",
            "~~~~~~~~~~~~~~~~~~~~~~~~~~~~~~~~~~~~~~~~~~~~~~~~~~~~~~~~~~~~~\n",
            "cumulative reward @ 15: 152.400000\n",
            "clicks hr ndcg @ 15 : 0.002494, 0.000823\n",
            "purchase hr and ndcg @15 : 0.002846, 0.000753\n",
            "~~~~~~~~~~~~~~~~~~~~~~~~~~~~~~~~~~~~~~~~~~~~~~~~~~~~~~~~~~~~~\n",
            "cumulative reward @ 20: 182.600000\n",
            "clicks hr ndcg @ 20 : 0.003119, 0.000968\n",
            "purchase hr and ndcg @20 : 0.002846, 0.000753\n",
            "#############################################################\n",
            "the loss in 200th batch is: 9.617006\n",
            "the loss in 400th batch is: 8.257309\n",
            "the loss in 600th batch is: 7.550689\n",
            "the loss in 800th batch is: 6.725216\n",
            "the loss in 1000th batch is: 6.744956\n",
            "the loss in 1200th batch is: 6.121643\n",
            "the loss in 1400th batch is: 6.221329\n",
            "the loss in 1600th batch is: 5.367343\n",
            "the loss in 1800th batch is: 5.391212\n",
            "the loss in 2000th batch is: 4.890271\n",
            "the loss in 2200th batch is: 5.339492\n",
            "the loss in 2400th batch is: 5.241365\n",
            "the loss in 2600th batch is: 4.785882\n",
            "the loss in 2800th batch is: 5.017833\n",
            "the loss in 3000th batch is: 4.764815\n",
            "the loss in 3200th batch is: 4.473391\n",
            "the loss in 3400th batch is: 4.303596\n",
            "the loss in 3600th batch is: 4.273103\n",
            "the loss in 3800th batch is: 3.980817\n",
            "the loss in 4000th batch is: 4.006152\n",
            "Traceback (most recent call last):\n",
            "  File \"/content/drive/Othercomputers/My_MacBook_Pro/aipi_final_project/SA2C_code/Kaggle/SNQN_v1.py\", line 629, in <module>\n",
            "    evaluate(sess)\n",
            "  File \"/content/drive/Othercomputers/My_MacBook_Pro/aipi_final_project/SA2C_code/Kaggle/SNQN_v1.py\", line 405, in evaluate\n",
            "    eval_sessions = pd.read_pickle(os.path.join(data_directory, \"sampled_val.pkl\"))\n",
            "  File \"/usr/local/lib/python3.10/dist-packages/pandas/io/pickle.py\", line 190, in read_pickle\n",
            "    with get_handle(\n",
            "  File \"/usr/local/lib/python3.10/dist-packages/pandas/io/common.py\", line 865, in get_handle\n",
            "    handle = open(handle, ioargs.mode)\n",
            "OSError: [Errno 107] Transport endpoint is not connected: 'data2/sampled_val.pkl'\n"
          ]
        }
      ]
    },
    {
      "cell_type": "code",
      "source": [],
      "metadata": {
        "id": "kXfoai0HzuuH"
      },
      "execution_count": null,
      "outputs": []
    }
  ]
}