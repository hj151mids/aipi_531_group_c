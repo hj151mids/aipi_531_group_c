{
  "nbformat": 4,
  "nbformat_minor": 0,
  "metadata": {
    "colab": {
      "provenance": [],
      "gpuType": "T4"
    },
    "kernelspec": {
      "name": "python3",
      "display_name": "Python 3"
    },
    "language_info": {
      "name": "python"
    },
    "accelerator": "GPU",
    "gpuClass": "standard"
  },
  "cells": [
    {
      "cell_type": "markdown",
      "source": [
        "# Steps to run the Source code(python scripts) for the final project"
      ],
      "metadata": {
        "id": "txouUAVRcoJn"
      }
    },
    {
      "cell_type": "markdown",
      "source": [
        "To run the repositories, you need to upgrade the code to TensorFlow 2. Follow the steps given below to run the python scripts\n",
        "\n",
        "1) Mount you google drive with all the scripts and point to the folder containing the source code"
      ],
      "metadata": {
        "id": "AqJZBRxZcGCD"
      }
    },
    {
      "cell_type": "code",
      "execution_count": null,
      "metadata": {
        "colab": {
          "base_uri": "https://localhost:8080/"
        },
        "id": "SH_p3AaD6VII",
        "outputId": "0bdc75de-0328-4713-c450-429991e0ad8f"
      },
      "outputs": [
        {
          "output_type": "stream",
          "name": "stdout",
          "text": [
            "Drive already mounted at /content/drive; to attempt to forcibly remount, call drive.mount(\"/content/drive\", force_remount=True).\n"
          ]
        }
      ],
      "source": [
        "# Mount Google Drive folder\n",
        "from google.colab import drive\n",
        "drive.mount('/content/drive')"
      ]
    },
    {
      "cell_type": "code",
      "source": [
        "PROJ_DIR = '/content/drive/MyDrive/aipi_final_project/SA2C_code/Kaggle'\n",
        "# change current directory after mounting\n",
        "%cd $PROJ_DIR\n",
        "! ls"
      ],
      "metadata": {
        "colab": {
          "base_uri": "https://localhost:8080/"
        },
        "id": "wKYwynPK0cH0",
        "outputId": "5dc426aa-6853-4f13-827e-0a855926a893"
      },
      "execution_count": null,
      "outputs": [
        {
          "output_type": "stream",
          "name": "stdout",
          "text": [
            "/content/drive/.shortcut-targets-by-id/16a1iBLyp0s5MArYhgCiMEdWaasK6McY0/aipi_final_project/SA2C_code/Kaggle\n",
            " 01_data_preprocessing.ipynb\t  __pycache__\t     SNQN_v1.py\n",
            "'Copy of yun_item_vector.ipynb'   replay_buffer.py   SNQNv3.py\n",
            " data\t\t\t\t  report_SA2C.txt    split_data.py\n",
            " data2\t\t\t\t  SA2C.py\t     test.py\n",
            " DQN_NS.py\t\t\t  SA2C_upgrade.py    utility.py\n",
            " NextItNetModules.py\t\t  SASRecModules.py   yun_item_vector.ipynb\n",
            " pop.py\t\t\t\t  SNQN.py\n",
            " preprocess_kaggle.py\t\t  SNQN_v0.py\n"
          ]
        }
      ]
    },
    {
      "cell_type": "code",
      "source": [],
      "metadata": {
        "id": "boTXxNWQ_NvT"
      },
      "execution_count": null,
      "outputs": []
    },
    {
      "cell_type": "code",
      "source": [
        "! python SNQNv3.py --model=GRU --epoch=1"
      ],
      "metadata": {
        "colab": {
          "base_uri": "https://localhost:8080/"
        },
        "id": "KiS6So4a8jW9",
        "outputId": "593a1421-3132-4db7-fe5d-f99fca0b8280"
      },
      "execution_count": null,
      "outputs": [
        {
          "output_type": "stream",
          "name": "stdout",
          "text": [
            "2023-05-03 05:00:17.334270: I tensorflow/core/platform/cpu_feature_guard.cc:182] This TensorFlow binary is optimized to use available CPU instructions in performance-critical operations.\n",
            "To enable the following instructions: AVX2 FMA, in other operations, rebuild TensorFlow with the appropriate compiler flags.\n",
            "2023-05-03 05:00:20.540720: W tensorflow/compiler/tf2tensorrt/utils/py_utils.cc:38] TF-TRT Warning: Could not find TensorRT\n",
            "/content/drive/.shortcut-targets-by-id/16a1iBLyp0s5MArYhgCiMEdWaasK6McY0/aipi_final_project/SA2C_code/Kaggle/SNQNv3.py:124: UserWarning: `tf.nn.rnn_cell.GRUCell` is deprecated and will be removed in a future version. This class is equivalent as `tf.keras.layers.GRUCell`, and will be replaced by that in Tensorflow 2.0.\n",
            "  tf.compat.v1.nn.rnn_cell.GRUCell(self.hidden_size),\n",
            "WARNING:tensorflow:From /content/drive/.shortcut-targets-by-id/16a1iBLyp0s5MArYhgCiMEdWaasK6McY0/aipi_final_project/SA2C_code/Kaggle/SNQNv3.py:123: dynamic_rnn (from tensorflow.python.ops.rnn) is deprecated and will be removed in a future version.\n",
            "Instructions for updating:\n",
            "Please use `keras.layers.RNN(cell)`, which is equivalent to this API\n",
            "WARNING:tensorflow:From /usr/local/lib/python3.10/dist-packages/keras/layers/rnn/legacy_cells.py:584: calling Constant.__init__ (from tensorflow.python.ops.init_ops) with dtype is deprecated and will be removed in a future version.\n",
            "Instructions for updating:\n",
            "Call initializer instance with the dtype argument instead of passing it to the constructor\n",
            "WARNING:tensorflow:From /usr/local/lib/python3.10/dist-packages/keras/layers/rnn/legacy_cells.py:598: calling Zeros.__init__ (from tensorflow.python.ops.init_ops) with dtype is deprecated and will be removed in a future version.\n",
            "Instructions for updating:\n",
            "Call initializer instance with the dtype argument instead of passing it to the constructor\n",
            "/content/drive/.shortcut-targets-by-id/16a1iBLyp0s5MArYhgCiMEdWaasK6McY0/aipi_final_project/SA2C_code/Kaggle/SNQNv3.py:295: UserWarning: `tf.layers.dense` is deprecated and will be removed in a future version. Please use `tf.keras.layers.Dense` instead.\n",
            "  self.output1 = tf.compat.v1.layers.dense(\n",
            "/content/drive/.shortcut-targets-by-id/16a1iBLyp0s5MArYhgCiMEdWaasK6McY0/aipi_final_project/SA2C_code/Kaggle/SNQNv3.py:299: UserWarning: `tf.layers.dense` is deprecated and will be removed in a future version. Please use `tf.keras.layers.Dense` instead.\n",
            "  self.output_phi = tf.compat.v1.layers.dense(\n",
            "/content/drive/.shortcut-targets-by-id/16a1iBLyp0s5MArYhgCiMEdWaasK6McY0/aipi_final_project/SA2C_code/Kaggle/SNQNv3.py:303: UserWarning: `tf.layers.dense` is deprecated and will be removed in a future version. Please use `tf.keras.layers.Dense` instead.\n",
            "  self.feature_embeddings = tf.compat.v1.layers.dense(\n",
            "2023-05-03 05:00:43.775027: I tensorflow/compiler/mlir/mlir_graph_optimization_pass.cc:353] MLIR V1 optimization pass is not enabled\n",
            "2023-05-03 05:16:44.229719: W tensorflow/tsl/framework/cpu_allocator_impl.cc:83] Allocation of 1854876672 exceeds 10% of free system memory.\n",
            "2023-05-03 05:16:44.489248: W tensorflow/tsl/framework/cpu_allocator_impl.cc:83] Allocation of 1854876672 exceeds 10% of free system memory.\n",
            "#############################################################\n",
            "total clicks: 241404, total purchase:11243\n",
            "~~~~~~~~~~~~~~~~~~~~~~~~~~~~~~~~~~~~~~~~~~~~~~~~~~~~~~~~~~~~~\n",
            "cumulative reward @ 5: 19.600000\n",
            "clicks hr ndcg @ 5 : 0.000406, 0.000223\n",
            "purchase hr and ndcg @5 : 0.000000, 0.000000\n",
            "~~~~~~~~~~~~~~~~~~~~~~~~~~~~~~~~~~~~~~~~~~~~~~~~~~~~~~~~~~~~~\n",
            "cumulative reward @ 10: 106.000000\n",
            "clicks hr ndcg @ 10 : 0.001553, 0.000595\n",
            "purchase hr and ndcg @10 : 0.002757, 0.000830\n",
            "~~~~~~~~~~~~~~~~~~~~~~~~~~~~~~~~~~~~~~~~~~~~~~~~~~~~~~~~~~~~~\n",
            "cumulative reward @ 15: 111.800000\n",
            "clicks hr ndcg @ 15 : 0.001653, 0.000621\n",
            "purchase hr and ndcg @15 : 0.002846, 0.000855\n",
            "~~~~~~~~~~~~~~~~~~~~~~~~~~~~~~~~~~~~~~~~~~~~~~~~~~~~~~~~~~~~~\n",
            "cumulative reward @ 20: 116.200000\n",
            "clicks hr ndcg @ 20 : 0.001744, 0.000643\n",
            "purchase hr and ndcg @20 : 0.002846, 0.000855\n",
            "#############################################################\n"
          ]
        }
      ]
    },
    {
      "cell_type": "code",
      "source": [],
      "metadata": {
        "id": "kXfoai0HzuuH"
      },
      "execution_count": null,
      "outputs": []
    }
  ]
}